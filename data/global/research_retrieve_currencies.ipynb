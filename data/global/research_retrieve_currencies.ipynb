{
 "cells": [
  {
   "cell_type": "code",
   "execution_count": 82,
   "metadata": {},
   "outputs": [],
   "source": [
    "from datetime import datetime\n",
    "from bs4 import BeautifulSoup\n",
    "import requests as r\n",
    "import json\n",
    "import re\n",
    "import os, sys\n",
    "import time\n",
    "import argparse"
   ]
  },
  {
   "cell_type": "code",
   "execution_count": 83,
   "metadata": {},
   "outputs": [],
   "source": [
    "class AutoVivification(dict):\n",
    "    \"\"\"Implementation of perl's autovivification feature.\"\"\"\n",
    "    def __getitem__(self, item):\n",
    "        try:\n",
    "            return dict.__getitem__(self, item)\n",
    "        except KeyError:\n",
    "            value = self[item] = type(self)()\n",
    "            return value"
   ]
  },
  {
   "cell_type": "code",
   "execution_count": 84,
   "metadata": {},
   "outputs": [],
   "source": [
    "def Get_Tops_Crypto(n_pages):\n",
    "\n",
    "    d = AutoVivification()\n",
    "    urls_pages = [\"https://coinranking.com/\" + \"?page=\" + str(pageid) for pageid in list(range(1,n_pages+1))]\n",
    "\n",
    "    for url in urls_pages:\n",
    "\n",
    "        print(url)\n",
    "        response = r.get(url)\n",
    "        soup = BeautifulSoup(response.text,\"html.parser\")\n",
    "        selector = \".profile__link\"\n",
    "        data = soup.select(selector)\n",
    "        urls = [\"https://coinranking.com\" + item.attrs[\"href\"] for item in data]\n",
    "        names = [item.text.strip() for item in data]\n",
    "        codes = [item.split(\"-\",1)[1] for item in urls]\n",
    "        splitted_words = [x.split(\" \") for x in names]\n",
    "        splitted_words = [[item.lower() for item in words if item[0]!=\"(\"] for words in splitted_words]\n",
    "        url_suffix = [\"-\".join(words) for words in splitted_words]\n",
    "        urls2 = [\"https://coinmarketcap.com/fr/currencies/\" + item for item in url_suffix]\n",
    "\n",
    "        for n,c,u1,u2 in zip(names,codes,urls,urls2):\n",
    "            d[n] = {\"code\":c,\"url\":{\"coinranking\":u1,\"coinmarket\":u2}}\n",
    "\n",
    "        time.sleep(2)\n",
    "\n",
    "    return d"
   ]
  },
  {
   "cell_type": "code",
   "execution_count": null,
   "metadata": {},
   "outputs": [],
   "source": [
    "def Save_Dic_To_Json(filename,dic_obj):\n",
    "    with open(filename, 'w') as outfile:\n",
    "        json.dump(dic_obj, outfile)\n",
    "    return None"
   ]
  },
  {
   "cell_type": "code",
   "execution_count": 85,
   "metadata": {},
   "outputs": [
    {
     "name": "stdout",
     "output_type": "stream",
     "text": [
      "https://coinranking.com/?page=1\n",
      "https://coinranking.com/?page=2\n",
      "https://coinranking.com/?page=3\n",
      "https://coinranking.com/?page=4\n",
      "https://coinranking.com/?page=5\n"
     ]
    }
   ],
   "source": [
    "n_pages = 5\n",
    "filename = \"crypto.json\"\n",
    "crypto_dic = Get_Tops_Crypto(n_pages)\n",
    "Save_Dic_To_Json(filename,crypto_dic)"
   ]
  },
  {
   "cell_type": "code",
   "execution_count": 86,
   "metadata": {},
   "outputs": [],
   "source": []
  },
  {
   "cell_type": "code",
   "execution_count": null,
   "metadata": {},
   "outputs": [],
   "source": []
  }
 ],
 "metadata": {
  "kernelspec": {
   "display_name": "cryptotracker",
   "language": "python",
   "name": "cryptotracker"
  },
  "language_info": {
   "codemirror_mode": {
    "name": "ipython",
    "version": 3
   },
   "file_extension": ".py",
   "mimetype": "text/x-python",
   "name": "python",
   "nbconvert_exporter": "python",
   "pygments_lexer": "ipython3",
   "version": "3.10.0"
  }
 },
 "nbformat": 4,
 "nbformat_minor": 4
}
