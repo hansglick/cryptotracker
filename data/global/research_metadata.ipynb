{
 "cells": [
  {
   "cell_type": "code",
   "execution_count": 47,
   "metadata": {},
   "outputs": [],
   "source": [
    "from datetime import datetime\n",
    "from bs4 import BeautifulSoup\n",
    "import requests as r\n",
    "import json\n",
    "import re\n",
    "import os, sys\n",
    "import time\n",
    "import argparse"
   ]
  },
  {
   "cell_type": "code",
   "execution_count": null,
   "metadata": {},
   "outputs": [],
   "source": [
    "def Save_Dic_To_Json(filename,dic_obj):\n",
    "    with open(filename, 'w') as outfile:\n",
    "        json.dump(dic_obj, outfile)\n",
    "    return None"
   ]
  },
  {
   "cell_type": "code",
   "execution_count": 48,
   "metadata": {},
   "outputs": [],
   "source": [
    "with open('crypto.json') as json_file:\n",
    "    crypto_dic = json.load(json_file)"
   ]
  },
  {
   "cell_type": "code",
   "execution_count": null,
   "metadata": {},
   "outputs": [],
   "source": [
    "for key,val in crypto_dic.items():\n",
    "    \n",
    "    print(key,val[\"url\"][\"coinmarket\"])\n",
    "    try:\n",
    "        response = r.get(val[\"url\"][\"coinmarket\"])\n",
    "        soup = BeautifulSoup(response.text,\"html.parser\")\n",
    "        #print(\"OK\")\n",
    "    except:\n",
    "        #print(\"KO\")\n",
    "        continue\n",
    "\n",
    "\n",
    "    time.sleep(2)\n",
    "    #print(\"\")\n",
    "    selector = \".eMxKgr\"\n",
    "    data = soup.select(selector)\n",
    "    if len(data)==0:\n",
    "        continue\n",
    "    t = data[1]\n",
    "    t = t.find_all(\"a\",href=True)\n",
    "    links = [(item.text,item.attrs[\"href\"]) for item in t]\n",
    "\n",
    "    d = {}\n",
    "    for label,url in links:\n",
    "        if \"blanc\" in label:\n",
    "            d[\"livre_blanc\"] = url\n",
    "        if \"t.me/\" in url:\n",
    "            d[\"telegram\"] = url\n",
    "        if \"discord\" in url:\n",
    "            d[\"discord\"] = url\n",
    "        if \"medium\" in label:\n",
    "            d[\"medium\"] = url\n",
    "        if \"twitter\" in url:\n",
    "            d[\"twitter\"] = url\n",
    "        if \"reddit\" in url:\n",
    "            d[\"reddit\"] = url\n",
    "        if \"github\" in url:\n",
    "            d[\"github\"] = url\n",
    "    \n",
    "    crypto_dic[key][\"links\"] = d"
   ]
  },
  {
   "cell_type": "code",
   "execution_count": 43,
   "metadata": {},
   "outputs": [],
   "source": []
  },
  {
   "cell_type": "code",
   "execution_count": 44,
   "metadata": {},
   "outputs": [],
   "source": [
    "def final(args):\n",
    "    \n",
    "    # 0. Read JSON Crypto\n",
    "    with open(args.filename) as json_file:\n",
    "        crypto_dic = json.load(json_file)\n",
    "    \n",
    "    # Browse JSON and Grab Data\n",
    "    for key,val in crypto_dic.items():\n",
    "\n",
    "        # Control\n",
    "        time.sleep(2)\n",
    "        print(key,val[\"url\"][\"coinmarket\"])\n",
    "        try:\n",
    "            response = r.get(val[\"url\"][\"coinmarket\"])\n",
    "            soup = BeautifulSoup(response.text,\"html.parser\")\n",
    "        except:\n",
    "            continue\n",
    "\n",
    "        # Grab Data\n",
    "        selector = \".eMxKgr\"\n",
    "        data = soup.select(selector)\n",
    "        if len(data)==0:\n",
    "            continue\n",
    "        t = data[1]\n",
    "        t = t.find_all(\"a\",href=True)\n",
    "        links = [(item.text,item.attrs[\"href\"]) for item in t]\n",
    "\n",
    "        # Rearrange Data\n",
    "        d = {}\n",
    "        for label,url in links:\n",
    "            if \"blanc\" in label:\n",
    "                d[\"livre_blanc\"] = url\n",
    "            if \"t.me/\" in url:\n",
    "                d[\"telegram\"] = url\n",
    "            if \"discord\" in url:\n",
    "                d[\"discord\"] = url\n",
    "            if \"medium\" in label:\n",
    "                d[\"medium\"] = url\n",
    "            if \"twitter\" in url:\n",
    "                d[\"twitter\"] = url\n",
    "            if \"reddit\" in url:\n",
    "                d[\"reddit\"] = url\n",
    "            if \"github\" in url:\n",
    "                d[\"github\"] = url\n",
    "        crypto_dic[key][\"links\"] = d\n",
    "    \n",
    "    # Save JSON\n",
    "    Save_Dic_To_Json(args.filename,crypto_dic)\n",
    "    \n",
    "    return None"
   ]
  }
 ],
 "metadata": {
  "kernelspec": {
   "display_name": "cryptotracker",
   "language": "python",
   "name": "cryptotracker"
  },
  "language_info": {
   "codemirror_mode": {
    "name": "ipython",
    "version": 3
   },
   "file_extension": ".py",
   "mimetype": "text/x-python",
   "name": "python",
   "nbconvert_exporter": "python",
   "pygments_lexer": "ipython3",
   "version": "3.10.0"
  }
 },
 "nbformat": 4,
 "nbformat_minor": 4
}
