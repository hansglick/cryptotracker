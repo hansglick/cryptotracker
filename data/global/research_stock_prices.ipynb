{
 "cells": [
  {
   "cell_type": "code",
   "execution_count": 48,
   "metadata": {},
   "outputs": [],
   "source": [
    "from datetime import datetime\n",
    "from bs4 import BeautifulSoup\n",
    "import requests as r\n",
    "import json\n",
    "import re\n",
    "import os, sys\n",
    "import time\n",
    "import argparse\n",
    "import cryptocompare"
   ]
  },
  {
   "cell_type": "code",
   "execution_count": 50,
   "metadata": {},
   "outputs": [],
   "source": [
    "def Save_Dic_To_Json(filename,dic_obj):\n",
    "    with open(filename, 'w') as outfile:\n",
    "        json.dump(dic_obj, outfile)\n",
    "    return None"
   ]
  },
  {
   "cell_type": "code",
   "execution_count": 51,
   "metadata": {},
   "outputs": [],
   "source": [
    "def Get_Crypto_Current_Price(crypto_dic,verbose=False):\n",
    "    \n",
    "    X = []\n",
    "    now = datetime.now(tz=None)\n",
    "    now = int(now.timestamp())\n",
    "    year = str(now.year).zfill(4)\n",
    "    month = str(now.month).zfill(2)\n",
    "    day = str(now.day).zfill(2)\n",
    "    hour = str(now.hour).zfill(2)\n",
    "    minute = str(now.minute).zfill(2)\n",
    "    suffix = year + month + day + hour + minute\n",
    "    \n",
    "    for key,val in crypto_dic.items():\n",
    "        code = val[\"code\"]\n",
    "        code = code.upper()\n",
    "        if verbose:\n",
    "            print(code)\n",
    "        try:\n",
    "            price = cryptocompare.get_price(code,currency='EUR')[code][\"EUR\"]\n",
    "            if verbose:\n",
    "                print(\"\")\n",
    "        except:\n",
    "            \n",
    "            if verbose:\n",
    "                print(\"PROBLEM NO CURRENCY\")\n",
    "            continue\n",
    "        \n",
    "        X.append({\"code\":code,\"ts\":now,\"price\":price,\"currency\":\"EUR\"})\n",
    "        time.sleep(1)\n",
    "    \n",
    "    return X"
   ]
  },
  {
   "cell_type": "code",
   "execution_count": 35,
   "metadata": {},
   "outputs": [],
   "source": [
    "json_filename = \"crypto.json\"\n",
    "stocks_filename = \"stocks.json\""
   ]
  },
  {
   "cell_type": "code",
   "execution_count": 36,
   "metadata": {},
   "outputs": [],
   "source": [
    "with open(json_filename) as json_file:\n",
    "    crypto_dic = json.load(json_file)\n",
    "current_crypto_prices = Get_Crypto_Current_Price(crypto_dic)\n",
    "Save_Dic_To_Json(stocks_filename,current_crypto_prices)"
   ]
  },
  {
   "cell_type": "code",
   "execution_count": null,
   "metadata": {},
   "outputs": [],
   "source": [
    "def Get_Suffix_Date():\n",
    "    now = datetime.now(tz=None)\n",
    "    year = str(now.year).zfill(4)\n",
    "    month = str(now.month).zfill(2)\n",
    "    day = str(now.day).zfill(2)\n",
    "    hour = str(now.hour).zfill(2)\n",
    "    minute = str(now.minute).zfill(2)\n",
    "    suffix = year + month + day + hour + minute\n",
    "    return suffix"
   ]
  },
  {
   "cell_type": "code",
   "execution_count": 52,
   "metadata": {},
   "outputs": [
    {
     "ename": "SyntaxError",
     "evalue": "'return' outside function (4208332345.py, line 8)",
     "output_type": "error",
     "traceback": [
      "\u001b[0;36m  File \u001b[0;32m\"/tmp/ipykernel_451203/4208332345.py\"\u001b[0;36m, line \u001b[0;32m8\u001b[0m\n\u001b[0;31m    return None\u001b[0m\n\u001b[0m    ^\u001b[0m\n\u001b[0;31mSyntaxError\u001b[0m\u001b[0;31m:\u001b[0m 'return' outside function\n"
     ]
    }
   ],
   "source": [
    "def final(args):\n",
    "    with open(args.crypto_global_filename) as json_file:\n",
    "        crypto_dic = json.load(json_file)\n",
    "    current_crypto_prices = Get_Crypto_Current_Price(crypto_dic)\n",
    "    suffix = Get_Suffix_Date()\n",
    "    savedfilename = args.crypto_stocks_filename.split(\".\")[0] + \"_\" + suffix + \".json\"\n",
    "    Save_Dic_To_Json(savedfilename,current_crypto_prices)\n",
    "    return None"
   ]
  },
  {
   "cell_type": "code",
   "execution_count": 53,
   "metadata": {},
   "outputs": [
    {
     "data": {
      "text/plain": [
       "'../stocks'"
      ]
     },
     "execution_count": 53,
     "metadata": {},
     "output_type": "execute_result"
    }
   ],
   "source": [
    "os.path.dirname(\"../stocks/stocks.json\")"
   ]
  },
  {
   "cell_type": "code",
   "execution_count": 37,
   "metadata": {},
   "outputs": [],
   "source": [
    "if __name__ == \"__main__\":\n",
    "    parser = argparse.ArgumentParser(description='test arguments')\n",
    "    parser.add_argument(\"-g\", \"--crypto_global_filename\",required = True)\n",
    "    parser.add_argument(\"-s\", \"--crypto_stocks_filename\",required = True)\n",
    "    args = parser.parse_args()\n",
    "    final(args)\n"
   ]
  },
  {
   "cell_type": "code",
   "execution_count": 55,
   "metadata": {},
   "outputs": [],
   "source": [
    "with open(\"stocks/stocks_essai.json\", 'w') as outfile:\n",
    "    json.dump(current_crypto_prices, outfile)"
   ]
  },
  {
   "cell_type": "code",
   "execution_count": null,
   "metadata": {},
   "outputs": [],
   "source": []
  }
 ],
 "metadata": {
  "kernelspec": {
   "display_name": "cryptotracker",
   "language": "python",
   "name": "cryptotracker"
  },
  "language_info": {
   "codemirror_mode": {
    "name": "ipython",
    "version": 3
   },
   "file_extension": ".py",
   "mimetype": "text/x-python",
   "name": "python",
   "nbconvert_exporter": "python",
   "pygments_lexer": "ipython3",
   "version": "3.10.0"
  }
 },
 "nbformat": 4,
 "nbformat_minor": 4
}
