{
 "cells": [
  {
   "cell_type": "code",
   "execution_count": 46,
   "metadata": {},
   "outputs": [],
   "source": [
    "# Loadding libs\n",
    "from datetime import datetime\n",
    "from bs4 import BeautifulSoup\n",
    "import requests as r\n",
    "import json\n",
    "import re\n",
    "import os, sys\n",
    "import time"
   ]
  },
  {
   "cell_type": "code",
   "execution_count": 47,
   "metadata": {},
   "outputs": [],
   "source": [
    "class AutoVivification(dict):\n",
    "    \"\"\"Implementation of perl's autovivification feature.\"\"\"\n",
    "    def __getitem__(self, item):\n",
    "        try:\n",
    "            return dict.__getitem__(self, item)\n",
    "        except KeyError:\n",
    "            value = self[item] = type(self)()\n",
    "            return value"
   ]
  },
  {
   "cell_type": "code",
   "execution_count": 48,
   "metadata": {},
   "outputs": [],
   "source": [
    "def Get_Scrapped_Commits_Page(url):\n",
    "\n",
    "    selector = \"#repo-content-pjax-container .f6\"\n",
    "    response = r.get(url)\n",
    "    soup = BeautifulSoup(response.text,\"html.parser\")\n",
    "    data = soup.select(selector)\n",
    "    \n",
    "    return data"
   ]
  },
  {
   "cell_type": "code",
   "execution_count": 49,
   "metadata": {},
   "outputs": [],
   "source": [
    "def Rearrange_Scrapped_Commits_Page(data):\n",
    "    c = 0\n",
    "    COUPLE = []\n",
    "    COMMITS = []\n",
    "    for item in data:\n",
    "        COUPLE.append(item)\n",
    "        c = c + 1\n",
    "        if c%2==0:\n",
    "            c = 0\n",
    "            COMMITS.append(COUPLE)\n",
    "            COUPLE = []\n",
    "    return COMMITS"
   ]
  },
  {
   "cell_type": "code",
   "execution_count": 50,
   "metadata": {},
   "outputs": [],
   "source": [
    "def Extract_Dates_And_Commits_Ids(BIG,older_than):\n",
    "    COMMITS_INFO = []\n",
    "    for data_date,data_url in BIG:\n",
    "        rawts = data_date.find('relative-time').attrs[\"datetime\"]\n",
    "        date_obj = datetime.strptime(rawts, \"%Y-%m-%dT%H:%M:%SZ\")\n",
    "        unix_epoch = (date_obj - datetime(1970, 1, 1)).total_seconds()\n",
    "        unix_epoch = int(unix_epoch)\n",
    "        relative_url = data_url.attrs[\"href\"]\n",
    "        COMMITS_INFO.append((unix_epoch,relative_url))\n",
    "        if unix_epoch <= older_than:\n",
    "            break\n",
    "    return COMMITS_INFO"
   ]
  },
  {
   "cell_type": "code",
   "execution_count": 51,
   "metadata": {},
   "outputs": [],
   "source": [
    "def Extract_Relevant_Commits_List(github_account,github_repo,older_than):\n",
    "    \n",
    "    url = \"https://github.com/\" + github_account + \"/\" + github_repo + \"/commits/master\"\n",
    "    results = []\n",
    "    next_page = True\n",
    "\n",
    "    while next_page:\n",
    "        scrapped_commits_page = Get_Scrapped_Commits_Page(url)\n",
    "        scrapped_commits_page_list = Rearrange_Scrapped_Commits_Page(scrapped_commits_page)\n",
    "        scrapped_dates_and_ids_commits = Extract_Dates_And_Commits_Ids(scrapped_commits_page_list,older_than)\n",
    "        results = results + scrapped_dates_and_ids_commits\n",
    "        next_page = len(scrapped_dates_and_ids_commits) == len(scrapped_commits_page_list)\n",
    "        first_commit_id = os.path.basename(scrapped_dates_and_ids_commits[0][-1])\n",
    "        n_others_commits = str(int(len(scrapped_commits_page_list) - 1))\n",
    "        urla = \"https://github.com/\" + github_account + \"/\" + github_repo + \"/commits/master?after=\"\n",
    "        urlb = first_commit_id + \"+\" + n_others_commits + \"&branch=master\"\n",
    "        url = urla + urlb\n",
    "\n",
    "    return results"
   ]
  },
  {
   "cell_type": "code",
   "execution_count": 52,
   "metadata": {},
   "outputs": [],
   "source": [
    "# Test\n",
    "github_account = \"solana-labs\"\n",
    "github_repo = \"solana\"\n",
    "older_than = 1638394946 # Wednesday 1 December 2021 21:42:26 GMT\n",
    "results = Extract_Relevant_Commits_List(github_account,github_repo,older_than)"
   ]
  },
  {
   "cell_type": "code",
   "execution_count": null,
   "metadata": {},
   "outputs": [],
   "source": []
  }
 ],
 "metadata": {
  "kernelspec": {
   "display_name": "cryptotracker",
   "language": "python",
   "name": "cryptotracker"
  },
  "language_info": {
   "codemirror_mode": {
    "name": "ipython",
    "version": 3
   },
   "file_extension": ".py",
   "mimetype": "text/x-python",
   "name": "python",
   "nbconvert_exporter": "python",
   "pygments_lexer": "ipython3",
   "version": "3.10.0"
  }
 },
 "nbformat": 4,
 "nbformat_minor": 4
}
