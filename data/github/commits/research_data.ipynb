{
 "cells": [
  {
   "cell_type": "code",
   "execution_count": 3,
   "metadata": {},
   "outputs": [],
   "source": [
    "# Loadding libs\n",
    "from datetime import datetime\n",
    "from bs4 import BeautifulSoup\n",
    "import requests as r\n",
    "import json\n",
    "import re\n",
    "import os, sys\n",
    "import time"
   ]
  },
  {
   "cell_type": "code",
   "execution_count": 8,
   "metadata": {},
   "outputs": [],
   "source": [
    "def Read_Commits_Ids_File(filename):\n",
    "    \n",
    "    urls = []\n",
    "    with open(filename) as file:\n",
    "        for line in file:\n",
    "            urls.append(line.rstrip())\n",
    "    \n",
    "    return urls"
   ]
  },
  {
   "cell_type": "code",
   "execution_count": 12,
   "metadata": {},
   "outputs": [],
   "source": [
    "def Extract_One_Commit_Data(url):\n",
    "    \n",
    "    response = r.get(url)\n",
    "    soup = BeautifulSoup(response.text,\"html.parser\")\n",
    "    \n",
    "    # Recherche du timestamp\n",
    "    selector = \"#repo-content-pjax-container .flex-wrap\"\n",
    "    data = soup.select(selector)\n",
    "    data = data[0]\n",
    "    timestamp = data.find(\"relative-time\")\n",
    "    timestamp = timestamp.attrs[\"datetime\"]\n",
    "    date_obj = datetime.strptime(timestamp, \"%Y-%m-%dT%H:%M:%SZ\")\n",
    "    unix_epoch = (date_obj - datetime(1970, 1, 1)).total_seconds()\n",
    "    unix_epoch = int(unix_epoch)\n",
    "    \n",
    "    # Recherche du contributor\n",
    "    contributor = data.find(\"a\").attrs[\"href\"]\n",
    "    contributor = contributor[1:]\n",
    "\n",
    "    # Recherche des modifications\n",
    "    selector = \".toc-diff-stats\"\n",
    "    data = soup.select(selector)\n",
    "    data = data[0]\n",
    "    files_changed = data.find(\"button\")\n",
    "\n",
    "    if files_changed is None:\n",
    "        modifications = [item.text for item in data.find_all(\"strong\")]\n",
    "        n_files_changed,additions,deletions = [re.findall(\"[0-9,]+\",item) for item in modifications]\n",
    "        n_files_changed = int(n_files_changed[0].replace(\",\",\"\"))\n",
    "        additions = int(additions[0].replace(\",\",\"\"))\n",
    "        deletions = int(deletions[0].replace(\",\",\"\"))\n",
    "    else:\n",
    "        files_changed = files_changed.text\n",
    "        files_changed = files_changed.strip()\n",
    "        n_files_changed = re.findall(\"[0-9,]+\",files_changed)\n",
    "        n_files_changed = int(n_files_changed[0].replace(\",\",\"\"))\n",
    "        modifications = data.find_all(\"strong\")\n",
    "        modifications = [item.text for item in modifications]\n",
    "        additions,deletions = [re.findall('[0-9,]+', item) for item in modifications]\n",
    "        additions = int(additions[0].replace(\",\",\"\"))\n",
    "        deletions = int(deletions[0].replace(\",\",\"\"))\n",
    "    \n",
    "    # REecherche du commit id\n",
    "    repo_name,project_name,_,commit_id = url[len(\"https://github.com/\"):].split(\"/\")\n",
    "    \n",
    "    # Concatenation des informations\n",
    "    commit_data = {\"id\":commit_id,\n",
    "                   \"ts\":unix_epoch,\n",
    "                   \"repo\" : repo_name,\n",
    "                   \"project\":project_name,\n",
    "                   \"contributor\":contributor,\n",
    "                   \"additions\":additions,\n",
    "                   \"deletions\":deletions,\n",
    "                   \"files\":n_files_changed,\n",
    "                   \"status\":\"OK\"\n",
    "                  }\n",
    "    \n",
    "    return commit_data"
   ]
  },
  {
   "cell_type": "code",
   "execution_count": 13,
   "metadata": {},
   "outputs": [],
   "source": [
    "filename = \"commits_ids.txt\"\n",
    "urls = Read_Commits_Ids_File(filename)\n",
    "Extract_One_Commit_Data(urls[0])"
   ]
  }
 ],
 "metadata": {
  "kernelspec": {
   "display_name": "cryptotracker",
   "language": "python",
   "name": "cryptotracker"
  },
  "language_info": {
   "codemirror_mode": {
    "name": "ipython",
    "version": 3
   },
   "file_extension": ".py",
   "mimetype": "text/x-python",
   "name": "python",
   "nbconvert_exporter": "python",
   "pygments_lexer": "ipython3",
   "version": "3.10.0"
  }
 },
 "nbformat": 4,
 "nbformat_minor": 4
}
